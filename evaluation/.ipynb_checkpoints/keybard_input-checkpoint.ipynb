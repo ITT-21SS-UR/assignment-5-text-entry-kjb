{
 "cells": [
  {
   "cell_type": "markdown",
   "id": "85dcf31a",
   "metadata": {},
   "source": [
    "# Pointing Experiment"
   ]
  },
  {
   "cell_type": "markdown",
   "id": "240ac404",
   "metadata": {},
   "source": [
    "## Testdesign"
   ]
  },
  {
   "cell_type": "markdown",
   "id": "10efcccc",
   "metadata": {},
   "source": [
    "In this study we want to evaluate our newly designed mouse pointing technique for pointing in grid like setups (i.e. Windows Desktop). The technique puts the mouse cursor on the position of the closest target when the left mouse button is clicked. By this we hope to improve pointing time, as users have to be less precise when clicking on targets. For each condition Participants will be presented with a grid of similiar looking targets. One of the targets will then be highlighted. The particpants are instructed to click the highlightes target as fast as they can. Their reaction times will be tested both with the novel pointing technique and without it. Our goal is to measure if the new technique significantly improves  pointing time. Additionally we want to test which technique leads to more errors. Errors are defined by clicks outside the highlighted target.\n",
    "\n",
    "H0: Our novel pointing technique does not affect pointing time, when pointing to a target in a grid like structure.\n",
    "\n",
    "H02: Our novel pointing technique does not affect the amount of errors (clicks outside the target), when pointing on targets in a grid like structure."
   ]
  },
  {
   "cell_type": "markdown",
   "id": "ae99a46a",
   "metadata": {},
   "source": [
    "### Participants"
   ]
  },
  {
   "cell_type": "markdown",
   "id": "6e429afe",
   "metadata": {},
   "source": [
    "Due to limited ressources and the current situation we were only able to test two participants.Both participants were male, between 20 and 30 years old and are proficient in working with a mouse and computer. Each of the participants took part in the experiment twice, once with the novel technique and once without.\n",
    "The small number of participants should be considered in the results."
   ]
  },
  {
   "cell_type": "markdown",
   "id": "155b7f1e",
   "metadata": {},
   "source": [
    "### Setup"
   ]
  },
  {
   "cell_type": "markdown",
   "id": "2692bb01",
   "metadata": {},
   "source": [
    "The test was split into three conditions, where each condition is represented by the amount of rows and columns of targets. We tested the following conditions (columns,rows): (8,4),(10,5),(20,10). For each condition a grid of targets represented by circles was drawn on the screen. As the screen size stayed the same, more rows and columns means smaller targets. One of the targets was higlighted which the participants were instructed to click on beforehand. This process was repeated 10 times for each condition. Each new repetition was started as soon as the participant successfully clicked on the highlighted target. At the beginning of each repetition the mouse cursor was set to the middle of the screen. Each participant had performed 2 passes of the entire test, so twice for each condition. One pass was performed with the novel pointing technique and one was performed without. We measured the time it took to click on the target for each repetition and also counted errors, so how many times the participant clicked outside the highlighted target before successfully clicking inside it"
   ]
  },
  {
   "cell_type": "markdown",
   "id": "5c01f207",
   "metadata": {},
   "source": [
    "### Variables"
   ]
  },
  {
   "cell_type": "markdown",
   "id": "2511a9ab",
   "metadata": {},
   "source": [
    "Independent variables: order of the tests, use of novel technique (on/off)\n",
    "\n",
    "Dependent variables: sentence time, words per minute\n",
    "\n",
    "Controlled variables: input device (laptop keyboard), screen resolution, screen size environment.\n",
    "\n",
    "Possible confounding variables: learning effect, fatigue \n",
    "\n",
    "To reduce the effect of the confounding variables of fatigue and learning effect for testing if the novel technique affects writing speed we implemented counter balancing. This means that half of the participants were tested with the novel technique first and without the technique second and the other half were tested the other way around. As the tested sentences stay the same and in the same order, learning effect "
   ]
  },
  {
   "cell_type": "markdown",
   "id": "b8802cd0",
   "metadata": {},
   "source": [
    "## Package import"
   ]
  },
  {
   "cell_type": "code",
   "execution_count": 3,
   "id": "25eab408",
   "metadata": {},
   "outputs": [],
   "source": [
    "import pandas as pd\n",
    "import matplotlib\n",
    "from matplotlib import pyplot as plt\n",
    "from scipy import stats\n",
    "import numpy as np\n",
    "import seaborn as sns"
   ]
  },
  {
   "cell_type": "markdown",
   "id": "bbb635cd",
   "metadata": {},
   "source": [
    "## Import data via csv"
   ]
  },
  {
   "cell_type": "code",
   "execution_count": 4,
   "id": "13c52cfe",
   "metadata": {},
   "outputs": [
    {
     "data": {
      "text/html": [
       "<div>\n",
       "<style scoped>\n",
       "    .dataframe tbody tr th:only-of-type {\n",
       "        vertical-align: middle;\n",
       "    }\n",
       "\n",
       "    .dataframe tbody tr th {\n",
       "        vertical-align: top;\n",
       "    }\n",
       "\n",
       "    .dataframe thead th {\n",
       "        text-align: right;\n",
       "    }\n",
       "</style>\n",
       "<table border=\"1\" class=\"dataframe\">\n",
       "  <thead>\n",
       "    <tr style=\"text-align: right;\">\n",
       "      <th></th>\n",
       "      <th>stats_log</th>\n",
       "      <th>user_id</th>\n",
       "      <th>use_completer</th>\n",
       "      <th>presented_text</th>\n",
       "      <th>transcribed_text</th>\n",
       "      <th>presented_characters</th>\n",
       "      <th>transcribed_characters</th>\n",
       "      <th>time</th>\n",
       "      <th>wpm</th>\n",
       "    </tr>\n",
       "  </thead>\n",
       "  <tbody>\n",
       "    <tr>\n",
       "      <th>44</th>\n",
       "      <td>stats_log</td>\n",
       "      <td>1</td>\n",
       "      <td>False</td>\n",
       "      <td>Hallo, wohin wollen wir heute gehen?\\n</td>\n",
       "      <td>Hallo, wohin wollen wir heut gehen?</td>\n",
       "      <td>37.0</td>\n",
       "      <td>35.0</td>\n",
       "      <td>8.445</td>\n",
       "      <td>42.628774</td>\n",
       "    </tr>\n",
       "    <tr>\n",
       "      <th>103</th>\n",
       "      <td>stats_log</td>\n",
       "      <td>1</td>\n",
       "      <td>False</td>\n",
       "      <td>Du wirfst den Schweinen Perlen vor die füße.\\n</td>\n",
       "      <td>Du wirfst den schweinen Perlen vor die Füße</td>\n",
       "      <td>45.0</td>\n",
       "      <td>43.0</td>\n",
       "      <td>9.064</td>\n",
       "      <td>52.956752</td>\n",
       "    </tr>\n",
       "    <tr>\n",
       "      <th>155</th>\n",
       "      <td>stats_log</td>\n",
       "      <td>1</td>\n",
       "      <td>False</td>\n",
       "      <td>Die Fantasie von Kindern is unermesslich.\\n</td>\n",
       "      <td>Die Fnatsie von Kindern ist unermesslich</td>\n",
       "      <td>42.0</td>\n",
       "      <td>40.0</td>\n",
       "      <td>7.407</td>\n",
       "      <td>48.602673</td>\n",
       "    </tr>\n",
       "    <tr>\n",
       "      <th>196</th>\n",
       "      <td>stats_log</td>\n",
       "      <td>1</td>\n",
       "      <td>True</td>\n",
       "      <td>Hallo, wohin wollen wir heute gehen?\\n</td>\n",
       "      <td>Hallo, wohin wollen wir heute gehen?</td>\n",
       "      <td>37.0</td>\n",
       "      <td>36.0</td>\n",
       "      <td>9.675</td>\n",
       "      <td>37.209302</td>\n",
       "    </tr>\n",
       "    <tr>\n",
       "      <th>247</th>\n",
       "      <td>stats_log</td>\n",
       "      <td>1</td>\n",
       "      <td>True</td>\n",
       "      <td>Du wirfst den Schweinen Perlen vor die füße.\\n</td>\n",
       "      <td>Di wirfst den schweinen Perlen vor die Füße</td>\n",
       "      <td>45.0</td>\n",
       "      <td>43.0</td>\n",
       "      <td>11.704</td>\n",
       "      <td>41.011620</td>\n",
       "    </tr>\n",
       "    <tr>\n",
       "      <th>287</th>\n",
       "      <td>stats_log</td>\n",
       "      <td>1</td>\n",
       "      <td>True</td>\n",
       "      <td>Die Fantasie von Kindern is unermesslich.\\n</td>\n",
       "      <td>Die Fantasie von Kindern ist unermesslich</td>\n",
       "      <td>42.0</td>\n",
       "      <td>41.0</td>\n",
       "      <td>6.800</td>\n",
       "      <td>52.941176</td>\n",
       "    </tr>\n",
       "    <tr>\n",
       "      <th>329</th>\n",
       "      <td>stats_log</td>\n",
       "      <td>2</td>\n",
       "      <td>True</td>\n",
       "      <td>Hallo, wohin wollen wir heute gehen?\\n</td>\n",
       "      <td>Hallo, wohin wollen wir heute gehen?</td>\n",
       "      <td>37.0</td>\n",
       "      <td>36.0</td>\n",
       "      <td>10.603</td>\n",
       "      <td>33.952655</td>\n",
       "    </tr>\n",
       "    <tr>\n",
       "      <th>378</th>\n",
       "      <td>stats_log</td>\n",
       "      <td>2</td>\n",
       "      <td>True</td>\n",
       "      <td>Du wirfst den Schweinen Perlen vor die füße.\\n</td>\n",
       "      <td>Du wirfst den schweinen Perlen vor die Füße</td>\n",
       "      <td>45.0</td>\n",
       "      <td>43.0</td>\n",
       "      <td>11.984</td>\n",
       "      <td>40.053405</td>\n",
       "    </tr>\n",
       "    <tr>\n",
       "      <th>419</th>\n",
       "      <td>stats_log</td>\n",
       "      <td>2</td>\n",
       "      <td>True</td>\n",
       "      <td>Die Fantasie von Kindern is unermesslich.\\n</td>\n",
       "      <td>DIe Fantasie von kindern ist unermesslich</td>\n",
       "      <td>42.0</td>\n",
       "      <td>41.0</td>\n",
       "      <td>6.935</td>\n",
       "      <td>51.910598</td>\n",
       "    </tr>\n",
       "    <tr>\n",
       "      <th>496</th>\n",
       "      <td>stats_log</td>\n",
       "      <td>2</td>\n",
       "      <td>False</td>\n",
       "      <td>Hallo, wohin wollen wir heute gehen?\\n</td>\n",
       "      <td>Hallo, wohin wollen wir heute gehen=</td>\n",
       "      <td>37.0</td>\n",
       "      <td>36.0</td>\n",
       "      <td>14.500</td>\n",
       "      <td>24.827586</td>\n",
       "    </tr>\n",
       "    <tr>\n",
       "      <th>551</th>\n",
       "      <td>stats_log</td>\n",
       "      <td>2</td>\n",
       "      <td>False</td>\n",
       "      <td>Du wirfst den Schweinen Perlen vor die füße.\\n</td>\n",
       "      <td>Du wifst den schwienen perlen vor die Füße</td>\n",
       "      <td>45.0</td>\n",
       "      <td>42.0</td>\n",
       "      <td>8.400</td>\n",
       "      <td>57.142857</td>\n",
       "    </tr>\n",
       "    <tr>\n",
       "      <th>606</th>\n",
       "      <td>stats_log</td>\n",
       "      <td>2</td>\n",
       "      <td>False</td>\n",
       "      <td>Die Fantasie von Kindern is unermesslich.\\n</td>\n",
       "      <td>Die Fantasie von Kindenr ist unermmsesslich</td>\n",
       "      <td>42.0</td>\n",
       "      <td>43.0</td>\n",
       "      <td>7.952</td>\n",
       "      <td>45.271630</td>\n",
       "    </tr>\n",
       "    <tr>\n",
       "      <th>45</th>\n",
       "      <td>stats_log</td>\n",
       "      <td>3</td>\n",
       "      <td>False</td>\n",
       "      <td>Hallo, wohin wollen wir heute gehen?\\r\\n</td>\n",
       "      <td>Hallo, wohin wollen wir heute gehen?</td>\n",
       "      <td>37.0</td>\n",
       "      <td>36.0</td>\n",
       "      <td>8.517</td>\n",
       "      <td>42.268404</td>\n",
       "    </tr>\n",
       "    <tr>\n",
       "      <th>104</th>\n",
       "      <td>stats_log</td>\n",
       "      <td>3</td>\n",
       "      <td>False</td>\n",
       "      <td>Du wirfst den Schweinen Perlen vor die füße.\\r\\n</td>\n",
       "      <td>Du wirfst den Schweinen Perlen vor die füße.</td>\n",
       "      <td>45.0</td>\n",
       "      <td>44.0</td>\n",
       "      <td>8.005</td>\n",
       "      <td>59.962523</td>\n",
       "    </tr>\n",
       "    <tr>\n",
       "      <th>164</th>\n",
       "      <td>stats_log</td>\n",
       "      <td>3</td>\n",
       "      <td>False</td>\n",
       "      <td>Die Fantasie von Kindern is unermesslich.\\r\\n</td>\n",
       "      <td>Die Fantasie von Kindern ist unermesslich.</td>\n",
       "      <td>42.0</td>\n",
       "      <td>42.0</td>\n",
       "      <td>8.642</td>\n",
       "      <td>41.657024</td>\n",
       "    </tr>\n",
       "    <tr>\n",
       "      <th>209</th>\n",
       "      <td>stats_log</td>\n",
       "      <td>3</td>\n",
       "      <td>True</td>\n",
       "      <td>Hallo, wohin wollen wir heute gehen?\\n</td>\n",
       "      <td>Hallo, wohin wollen wir heute gehen?</td>\n",
       "      <td>37.0</td>\n",
       "      <td>36.0</td>\n",
       "      <td>7.795</td>\n",
       "      <td>46.183451</td>\n",
       "    </tr>\n",
       "    <tr>\n",
       "      <th>275</th>\n",
       "      <td>stats_log</td>\n",
       "      <td>3</td>\n",
       "      <td>True</td>\n",
       "      <td>Du wirfst den Schweinen Perlen vor die füße.\\n</td>\n",
       "      <td>Du wirfst den Schweinen Perlen vor die füße.</td>\n",
       "      <td>45.0</td>\n",
       "      <td>44.0</td>\n",
       "      <td>9.462</td>\n",
       "      <td>50.729233</td>\n",
       "    </tr>\n",
       "    <tr>\n",
       "      <th>319</th>\n",
       "      <td>stats_log</td>\n",
       "      <td>3</td>\n",
       "      <td>True</td>\n",
       "      <td>Die Fantasie von Kindern is unermesslich.\\n</td>\n",
       "      <td>Die Fantasie von Kindern ist unermesslich.</td>\n",
       "      <td>42.0</td>\n",
       "      <td>42.0</td>\n",
       "      <td>6.335</td>\n",
       "      <td>56.827151</td>\n",
       "    </tr>\n",
       "    <tr>\n",
       "      <th>363</th>\n",
       "      <td>stats_log</td>\n",
       "      <td>4</td>\n",
       "      <td>True</td>\n",
       "      <td>Hallo, wohin wollen wir heute gehen?\\n</td>\n",
       "      <td>Hallo, wohin wollen wir heute gehen?</td>\n",
       "      <td>37.0</td>\n",
       "      <td>36.0</td>\n",
       "      <td>8.710</td>\n",
       "      <td>41.331803</td>\n",
       "    </tr>\n",
       "    <tr>\n",
       "      <th>424</th>\n",
       "      <td>stats_log</td>\n",
       "      <td>4</td>\n",
       "      <td>True</td>\n",
       "      <td>Du wirfst den Schweinen Perlen vor die füße.\\n</td>\n",
       "      <td>Du wirfst den Schweinen Perlen vor die Füße.</td>\n",
       "      <td>45.0</td>\n",
       "      <td>44.0</td>\n",
       "      <td>9.159</td>\n",
       "      <td>52.407468</td>\n",
       "    </tr>\n",
       "    <tr>\n",
       "      <th>467</th>\n",
       "      <td>stats_log</td>\n",
       "      <td>4</td>\n",
       "      <td>True</td>\n",
       "      <td>Die Fantasie von Kindern is unermesslich.\\n</td>\n",
       "      <td>Die Fantasie von Kindern ist unermesslich.</td>\n",
       "      <td>42.0</td>\n",
       "      <td>42.0</td>\n",
       "      <td>7.741</td>\n",
       "      <td>46.505619</td>\n",
       "    </tr>\n",
       "    <tr>\n",
       "      <th>514</th>\n",
       "      <td>stats_log</td>\n",
       "      <td>4</td>\n",
       "      <td>False</td>\n",
       "      <td>Hallo, wohin wollen wir heute gehen?\\n</td>\n",
       "      <td>Hallo, wohin sollen wir heute gehen?</td>\n",
       "      <td>37.0</td>\n",
       "      <td>36.0</td>\n",
       "      <td>6.033</td>\n",
       "      <td>59.671805</td>\n",
       "    </tr>\n",
       "    <tr>\n",
       "      <th>586</th>\n",
       "      <td>stats_log</td>\n",
       "      <td>4</td>\n",
       "      <td>False</td>\n",
       "      <td>Du wirfst den Schweinen Perlen vor die füße.\\n</td>\n",
       "      <td>Du wirfst den Schweinen Perlen vor die füße.</td>\n",
       "      <td>45.0</td>\n",
       "      <td>44.0</td>\n",
       "      <td>10.224</td>\n",
       "      <td>46.948357</td>\n",
       "    </tr>\n",
       "    <tr>\n",
       "      <th>650</th>\n",
       "      <td>stats_log</td>\n",
       "      <td>4</td>\n",
       "      <td>False</td>\n",
       "      <td>Die Fantasie von Kindern is unermesslich.\\n</td>\n",
       "      <td>Die Fantasie von Kindern ist unermesslich.</td>\n",
       "      <td>42.0</td>\n",
       "      <td>42.0</td>\n",
       "      <td>8.117</td>\n",
       "      <td>44.351361</td>\n",
       "    </tr>\n",
       "  </tbody>\n",
       "</table>\n",
       "</div>"
      ],
      "text/plain": [
       "     stats_log  user_id  use_completer  \\\n",
       "44   stats_log        1          False   \n",
       "103  stats_log        1          False   \n",
       "155  stats_log        1          False   \n",
       "196  stats_log        1           True   \n",
       "247  stats_log        1           True   \n",
       "287  stats_log        1           True   \n",
       "329  stats_log        2           True   \n",
       "378  stats_log        2           True   \n",
       "419  stats_log        2           True   \n",
       "496  stats_log        2          False   \n",
       "551  stats_log        2          False   \n",
       "606  stats_log        2          False   \n",
       "45   stats_log        3          False   \n",
       "104  stats_log        3          False   \n",
       "164  stats_log        3          False   \n",
       "209  stats_log        3           True   \n",
       "275  stats_log        3           True   \n",
       "319  stats_log        3           True   \n",
       "363  stats_log        4           True   \n",
       "424  stats_log        4           True   \n",
       "467  stats_log        4           True   \n",
       "514  stats_log        4          False   \n",
       "586  stats_log        4          False   \n",
       "650  stats_log        4          False   \n",
       "\n",
       "                                       presented_text  \\\n",
       "44             Hallo, wohin wollen wir heute gehen?\\n   \n",
       "103    Du wirfst den Schweinen Perlen vor die füße.\\n   \n",
       "155       Die Fantasie von Kindern is unermesslich.\\n   \n",
       "196            Hallo, wohin wollen wir heute gehen?\\n   \n",
       "247    Du wirfst den Schweinen Perlen vor die füße.\\n   \n",
       "287       Die Fantasie von Kindern is unermesslich.\\n   \n",
       "329            Hallo, wohin wollen wir heute gehen?\\n   \n",
       "378    Du wirfst den Schweinen Perlen vor die füße.\\n   \n",
       "419       Die Fantasie von Kindern is unermesslich.\\n   \n",
       "496            Hallo, wohin wollen wir heute gehen?\\n   \n",
       "551    Du wirfst den Schweinen Perlen vor die füße.\\n   \n",
       "606       Die Fantasie von Kindern is unermesslich.\\n   \n",
       "45           Hallo, wohin wollen wir heute gehen?\\r\\n   \n",
       "104  Du wirfst den Schweinen Perlen vor die füße.\\r\\n   \n",
       "164     Die Fantasie von Kindern is unermesslich.\\r\\n   \n",
       "209            Hallo, wohin wollen wir heute gehen?\\n   \n",
       "275    Du wirfst den Schweinen Perlen vor die füße.\\n   \n",
       "319       Die Fantasie von Kindern is unermesslich.\\n   \n",
       "363            Hallo, wohin wollen wir heute gehen?\\n   \n",
       "424    Du wirfst den Schweinen Perlen vor die füße.\\n   \n",
       "467       Die Fantasie von Kindern is unermesslich.\\n   \n",
       "514            Hallo, wohin wollen wir heute gehen?\\n   \n",
       "586    Du wirfst den Schweinen Perlen vor die füße.\\n   \n",
       "650       Die Fantasie von Kindern is unermesslich.\\n   \n",
       "\n",
       "                                 transcribed_text  presented_characters  \\\n",
       "44            Hallo, wohin wollen wir heut gehen?                  37.0   \n",
       "103   Du wirfst den schweinen Perlen vor die Füße                  45.0   \n",
       "155      Die Fnatsie von Kindern ist unermesslich                  42.0   \n",
       "196          Hallo, wohin wollen wir heute gehen?                  37.0   \n",
       "247   Di wirfst den schweinen Perlen vor die Füße                  45.0   \n",
       "287     Die Fantasie von Kindern ist unermesslich                  42.0   \n",
       "329          Hallo, wohin wollen wir heute gehen?                  37.0   \n",
       "378   Du wirfst den schweinen Perlen vor die Füße                  45.0   \n",
       "419     DIe Fantasie von kindern ist unermesslich                  42.0   \n",
       "496          Hallo, wohin wollen wir heute gehen=                  37.0   \n",
       "551    Du wifst den schwienen perlen vor die Füße                  45.0   \n",
       "606   Die Fantasie von Kindenr ist unermmsesslich                  42.0   \n",
       "45           Hallo, wohin wollen wir heute gehen?                  37.0   \n",
       "104  Du wirfst den Schweinen Perlen vor die füße.                  45.0   \n",
       "164    Die Fantasie von Kindern ist unermesslich.                  42.0   \n",
       "209          Hallo, wohin wollen wir heute gehen?                  37.0   \n",
       "275  Du wirfst den Schweinen Perlen vor die füße.                  45.0   \n",
       "319    Die Fantasie von Kindern ist unermesslich.                  42.0   \n",
       "363          Hallo, wohin wollen wir heute gehen?                  37.0   \n",
       "424  Du wirfst den Schweinen Perlen vor die Füße.                  45.0   \n",
       "467    Die Fantasie von Kindern ist unermesslich.                  42.0   \n",
       "514          Hallo, wohin sollen wir heute gehen?                  37.0   \n",
       "586  Du wirfst den Schweinen Perlen vor die füße.                  45.0   \n",
       "650    Die Fantasie von Kindern ist unermesslich.                  42.0   \n",
       "\n",
       "     transcribed_characters    time        wpm  \n",
       "44                     35.0   8.445  42.628774  \n",
       "103                    43.0   9.064  52.956752  \n",
       "155                    40.0   7.407  48.602673  \n",
       "196                    36.0   9.675  37.209302  \n",
       "247                    43.0  11.704  41.011620  \n",
       "287                    41.0   6.800  52.941176  \n",
       "329                    36.0  10.603  33.952655  \n",
       "378                    43.0  11.984  40.053405  \n",
       "419                    41.0   6.935  51.910598  \n",
       "496                    36.0  14.500  24.827586  \n",
       "551                    42.0   8.400  57.142857  \n",
       "606                    43.0   7.952  45.271630  \n",
       "45                     36.0   8.517  42.268404  \n",
       "104                    44.0   8.005  59.962523  \n",
       "164                    42.0   8.642  41.657024  \n",
       "209                    36.0   7.795  46.183451  \n",
       "275                    44.0   9.462  50.729233  \n",
       "319                    42.0   6.335  56.827151  \n",
       "363                    36.0   8.710  41.331803  \n",
       "424                    44.0   9.159  52.407468  \n",
       "467                    42.0   7.741  46.505619  \n",
       "514                    36.0   6.033  59.671805  \n",
       "586                    44.0  10.224  46.948357  \n",
       "650                    42.0   8.117  44.351361  "
      ]
     },
     "execution_count": 4,
     "metadata": {},
     "output_type": "execute_result"
    }
   ],
   "source": [
    "#import csv data\n",
    "headerlist= [\"stats_log\", \"user_id\", \"use_completer\", \"presented_text\", \"transcribed_text\",\n",
    "                                  \"presented_characters\", \"transcribed_characters\", \"time\", \"wpm\"]\n",
    "\n",
    "df_data = pd.read_csv('stats_log.csv', names= headerlist)\n",
    "df_data"
   ]
  },
  {
   "cell_type": "code",
   "execution_count": 5,
   "id": "fd91fc95",
   "metadata": {},
   "outputs": [],
   "source": [
    "#group data per technique\n",
    "df_normal = df_data[df_data['use_completer'] == False]\n",
    "df_novel = df_data[df_data['use_completer'] == True]\n"
   ]
  },
  {
   "cell_type": "markdown",
   "id": "d0cb0981",
   "metadata": {},
   "source": [
    "## Evaluation"
   ]
  },
  {
   "cell_type": "markdown",
   "id": "6360601b",
   "metadata": {},
   "source": [
    "### Words per minute per user with and without novel technique"
   ]
  },
  {
   "cell_type": "code",
   "execution_count": 47,
   "id": "c4299c03",
   "metadata": {},
   "outputs": [],
   "source": [
    "user1_completer = df_data['use_completer'][df_data['user_id'] == 1]\n",
    "user1_wpm = df_data['wpm'][df_data['user_id'] == 1]\n",
    "user2_completer = df_data['use_completer'][df_data['user_id'] == 2]\n",
    "user2_wpm= df_data['wpm'][df_data['user_id'] == 2]\n",
    "user3_completer= df_data['use_completer'][df_data['user_id'] == 3]\n",
    "user3_wpm = df_data['wpm'][df_data['user_id'] == 3]\n",
    "user4_completer = df_data['use_completer'][df_data['user_id'] == 4]\n",
    "user4_wpm = df_data['wpm'][df_data['user_id'] == 4]\n"
   ]
  },
  {
   "cell_type": "code",
   "execution_count": 67,
   "id": "b960aaa3",
   "metadata": {
    "scrolled": true
   },
   "outputs": [
    {
     "data": {
      "image/png": "[encoded data removed]",
      "text/plain": [
       "<Figure size 432x288 with 1 Axes>"
      ]
     },
     "metadata": {
      "needs_background": "light"
     },
     "output_type": "display_data"
    }
   ],
   "source": [
    "plt.scatter(user1_completer, user1_wpm, label='user1')\n",
    "plt.scatter(user2_completer, user2_wpm, label='user2')\n",
    "plt.scatter(user3_completer, user3_wpm, label='user3')\n",
    "plt.scatter(user4_completer, user4_wpm, label='user4')\n",
    "plt.legend(loc=8)\n",
    "plt.title('Words per minute per user with and without novel technique')\n",
    "plt.xlabel('word input technique')\n",
    "plt.ylabel('words per minute')\n",
    "plt.xticks([False, True], [\"Normal\", \"Autocomplete\"])\n",
    "plt.xlim(-1, 2)\n",
    "plt.savefig('wordsperminute_user_with_without_novel_technique_scatter.pdf')"
   ]
  },
  {
   "cell_type": "code",
   "execution_count": 71,
   "id": "1f19b044",
   "metadata": {},
   "outputs": [
    {
     "data": {
      "image/png": "[encoded data removed]",
      "text/plain": [
       "<Figure size 432x288 with 1 Axes>"
      ]
     },
     "metadata": {
      "needs_background": "light"
     },
     "output_type": "display_data"
    }
   ],
   "source": [
    "boxplot_wordsperminute = sns.boxplot(\n",
    "    data=df_data,\n",
    "    x=\"use_completer\",\n",
    "    y=\"wpm\"\n",
    ")\n",
    "\n",
    "boxplot_wordsperminute.set_xticklabels([\"normal\", \"autocomplete\"])\n",
    "\n",
    "boxplot_wordsperminute.set(xlabel=\"text input type\", ylabel=\"words per minute\")\n",
    "\n",
    "plt.show()\n",
    "plt.savefig('wordsperminute_user_with_without_novel_technique_boxplot.pdf')"
   ]
  },
  {
   "cell_type": "markdown",
   "id": "94084a2f",
   "metadata": {},
   "source": [
    "### Errors per condition with improvement"
   ]
  },
  {
   "cell_type": "code",
   "execution_count": 34,
   "id": "5fc30a2b",
   "metadata": {},
   "outputs": [],
   "source": [
    "cond1_err_false = df_novel_true['errors'][df_novel_true['current_size'] == \"[20, 10]\"][df_novel_true['errors'] == 0].count() \n",
    "cond1_err_true = df_novel_true['errors'][df_novel_true['current_size'] == \"[20, 10]\"][df_novel_true['errors'] == 1].count()\n",
    "cond2_err_false = df_novel_true['errors'][df_novel_true['current_size'] == \"[8, 4]\"][df_novel_true['errors'] == 0].count()\n",
    "cond2_err_true = df_novel_true['errors'][df_novel_true['current_size'] == \"[8, 4]\"][df_novel_true['errors'] == 1].count()\n",
    "cond3_err_false = df_novel_true['errors'][df_novel_true['current_size'] ==\"[10, 5]\"][df_novel_true['errors'] == 0].count()\n",
    "cond3_err_true = df_novel_true['errors'][df_novel_true['current_size'] == \"[10, 5]\"][df_novel_true['errors'] == 1].count()"
   ]
  },
  {
   "cell_type": "code",
   "execution_count": 35,
   "id": "e39125f7",
   "metadata": {
    "scrolled": true
   },
   "outputs": [
    {
     "data": {
      "image/png": "[encoded data removed]",
      "text/plain": [
       "<Figure size 432x288 with 1 Axes>"
      ]
     },
     "metadata": {
      "needs_background": "light"
     },
     "output_type": "display_data"
    }
   ],
   "source": [
    "err_cond=[1,2,3]\n",
    "plt.bar(err_cond, (cond1_err_false, cond2_err_false, cond3_err_false), label='error')\n",
    "plt.bar(err_cond, (cond1_err_true, cond2_err_true , cond3_err_true), bottom=(cond1_err_false, cond2_err_false, cond3_err_false), label='no error')\n",
    "plt.title('Error per condition with novel technique')\n",
    "plt.xlabel('conditions')\n",
    "plt.ylabel('errors')\n",
    "plt.legend()\n",
    "plt.xticks([1, 2, 3], [1, 2, 3])\n",
    "plt.xlim(0.5, 3.5)\n",
    "plt.savefig('error_per_cond_with_novel.pdf')"
   ]
  },
  {
   "cell_type": "markdown",
   "id": "8d74d30a",
   "metadata": {},
   "source": [
    "### Completion time per condition with and without novel technique"
   ]
  },
  {
   "cell_type": "code",
   "execution_count": 36,
   "id": "b80d20d6",
   "metadata": {},
   "outputs": [],
   "source": [
    "cond_novel_false = df_novel_false['current_size']\n",
    "cond_time_novel_false = df_novel_false['time(ms)']\n",
    "cond_novel_true = df_novel_true['current_size']\n",
    "cond_time_novel_true = df_novel_true['time(ms)']"
   ]
  },
  {
   "cell_type": "code",
   "execution_count": 40,
   "id": "bbc4b409",
   "metadata": {
    "scrolled": true
   },
   "outputs": [
    {
     "data": {
      "image/png": "[encoded data removed]",
      "text/plain": [
       "<Figure size 432x288 with 1 Axes>"
      ]
     },
     "metadata": {
      "needs_background": "light"
     },
     "output_type": "display_data"
    }
   ],
   "source": [
    "#plt.scatter(cond_novel_true, cond_time_novel_true, label='true')\n",
    "s = sns.stripplot(data =df_novel_false, x=\"current_size\", y=\"time(ms)\", jitter=0.2, size=2, label='without', palette=['green','black','orange','brown','dodgerblue','red'])\n",
    "sns.stripplot(data =df_novel_true, x=\"current_size\", y=\"time(ms)\", jitter=0.2, size=2, label='with')\n",
    "\n",
    "#plt.scatter(cond_novel_false, cond_time_novel_false, label='false')\n",
    "plt.legend(loc=1)\n",
    "plt.title('Completion time per condition with and without novel technique')\n",
    "plt.xlabel('conditions')\n",
    "plt.ylabel('completion time in ms')\n",
    "#plt.xticks([\"[20, 10]\", \"[8, 4]\", \"[10, 5]\"], [1, 2, 3])\n",
    "s.set_xticklabels([1,2,3])\n",
    "plt.xlim(-1, 3)\n",
    "plt.ylim((600,2000))\n",
    "plt.savefig('time_per_cond_and_user_with_or_without_novel.pdf')"
   ]
  },
  {
   "cell_type": "markdown",
   "id": "30f200e7",
   "metadata": {},
   "source": [
    "### Errors per condition and user without improvement"
   ]
  },
  {
   "cell_type": "code",
   "execution_count": 42,
   "id": "bf46da18",
   "metadata": {},
   "outputs": [],
   "source": [
    "cond1_user1_false_novel = df_novel_false['errors'][df_novel_false['current_size'] == \"[20, 10]\"][df_novel_false['errors'] == 0][df_novel_false['user_id'] == 1].count() \n",
    "cond1_user1_true_novel = df_novel_false['errors'][df_novel_false['current_size'] == \"[20, 10]\"][df_novel_false['errors'] == 1][df_novel_false['user_id'] == 1].count()\n",
    "cond1_user2_false_novel = df_novel_false['errors'][df_novel_false['current_size'] == \"[20, 10]\"][df_novel_false['errors'] == 0][df_novel_false['user_id'] == 2].count() \n",
    "cond1_user2_true_novel = df_novel_false['errors'][df_novel_false['current_size'] == \"[20, 10]\"][df_novel_false['errors'] == 1][df_novel_false['user_id'] == 2].count()\n",
    "cond1_user3_false_novel = df_novel_false['errors'][df_novel_false['current_size'] == \"[20, 10]\"][df_novel_false['errors'] == 0][df_novel_false['user_id'] == 3].count() \n",
    "cond1_user3_true_novel = df_novel_false['errors'][df_novel_false['current_size'] == \"[20, 10]\"][df_novel_false['errors'] == 1][df_novel_false['user_id'] == 3].count()\n",
    "cond1_user4_false_novel = df_novel_false['errors'][df_novel_false['current_size'] == \"[20, 10]\"][df_novel_false['errors'] == 0][df_novel_false['user_id'] == 4].count() \n",
    "cond1_user4_true_novel = df_novel_false['errors'][df_novel_false['current_size'] == \"[20, 10]\"][df_novel_false['errors'] == 1][df_novel_false['user_id'] == 4].count()\n",
    "cond2_user1_false_novel = df_novel_false['errors'][df_novel_false['current_size'] == \"[8, 4]\"][df_novel_false['errors'] == 0][df_novel_false['user_id'] == 1].count() \n",
    "cond2_user1_true_novel = df_novel_false['errors'][df_novel_false['current_size'] == \"[8, 4]\"][df_novel_false['errors'] == 1][df_novel_false['user_id'] == 1].count()\n",
    "cond2_user2_false_novel = df_novel_false['errors'][df_novel_false['current_size'] == \"[8, 4]\"][df_novel_false['errors'] == 0][df_novel_false['user_id'] == 2].count() \n",
    "cond2_user2_true_novel = df_novel_false['errors'][df_novel_false['current_size'] == \"[8, 4]\"][df_novel_false['errors'] == 1][df_novel_false['user_id'] == 2].count()\n",
    "cond2_user3_false_novel = df_novel_false['errors'][df_novel_false['current_size'] == \"[8, 4]\"][df_novel_false['errors'] == 0][df_novel_false['user_id'] == 3].count() \n",
    "cond2_user3_true_novel = df_novel_false['errors'][df_novel_false['current_size'] == \"[8, 4]\"][df_novel_false['errors'] == 1][df_novel_false['user_id'] == 3].count()\n",
    "cond2_user4_false_novel = df_novel_false['errors'][df_novel_false['current_size'] == \"[8, 4]\"][df_novel_false['errors'] == 0][df_novel_false['user_id'] == 4].count() \n",
    "cond2_user4_true_novel = df_novel_false['errors'][df_novel_false['current_size'] == \"[8, 4]\"][df_novel_false['errors'] == 1][df_novel_false['user_id'] == 4].count()\n",
    "cond3_user1_false_novel = df_novel_false['errors'][df_novel_false['current_size'] == \"[10, 5]\"][df_novel_false['errors'] == 0][df_novel_false['user_id'] == 1].count() \n",
    "cond3_user1_true_novel = df_novel_false['errors'][df_novel_false['current_size'] == \"[10, 5]\"][df_novel_false['errors'] == 1][df_novel_false['user_id'] == 1].count()\n",
    "cond3_user2_false_novel = df_novel_false['errors'][df_novel_false['current_size'] == \"[10, 5]\"][df_novel_false['errors'] == 0][df_novel_false['user_id'] == 2].count() \n",
    "cond3_user2_true_novel = df_novel_false['errors'][df_novel_false['current_size'] == \"[10, 5]\"][df_novel_false['errors'] == 1][df_novel_false['user_id'] == 2].count()\n",
    "cond3_user3_false_novel = df_novel_false['errors'][df_novel_false['current_size'] == \"[10, 5]\"][df_novel_false['errors'] == 0][df_novel_false['user_id'] == 3].count() \n",
    "cond3_user3_true_novel = df_novel_false['errors'][df_novel_false['current_size'] == \"[10, 5]\"][df_novel_false['errors'] == 1][df_novel_false['user_id'] == 3].count()\n",
    "cond3_user4_false_novel = df_novel_false['errors'][df_novel_false['current_size'] == \"[10, 5]\"][df_novel_false['errors'] == 0][df_novel_false['user_id'] == 4].count() \n",
    "cond3_user4_true_novel = df_novel_false['errors'][df_novel_false['current_size'] == \"[10, 5]\"][df_novel_false['errors'] == 1][df_novel_false['user_id'] == 4].count()"
   ]
  },
  {
   "cell_type": "code",
   "execution_count": 43,
   "id": "899030de",
   "metadata": {
    "scrolled": true
   },
   "outputs": [
    {
     "data": {
      "image/png": "[encoded data removed]",
      "text/plain": [
       "<Figure size 432x288 with 1 Axes>"
      ]
     },
     "metadata": {
      "needs_background": "light"
     },
     "output_type": "display_data"
    }
   ],
   "source": [
    "x  = np.arange(3)\n",
    "plt.title('errors per condition and user without improvement')\n",
    "width = 0.3\n",
    "\n",
    "user1_false_novel = plt.bar(x - 0.3, (cond1_user1_false_novel, cond2_user1_false_novel, cond3_user1_false_novel), width, color='C0', \n",
    "                      edgecolor='#000000', label='error')\n",
    "user1_true_novel = plt.bar(x - 0.3, (cond1_user1_true_novel, cond2_user1_true_novel, cond3_user1_true_novel), width, color='C1', \n",
    "                     edgecolor='#000000', bottom= (cond1_user1_false_novel, cond2_user1_false_novel, cond3_user1_false_novel), label='user 1')\n",
    "\n",
    "user2_false_novel = plt.bar(x - 0.1, (cond1_user2_false_novel, cond2_user2_false_novel, cond3_user2_false_novel), width, color='C0',\n",
    "                      edgecolor='#000000', hatch='////')\n",
    "user2_true_novel = plt.bar(x - 0.1, (cond1_user2_true_novel, cond2_user2_true_novel, cond3_user2_true_novel), width, color='C1', \n",
    "                     edgecolor='#000000', hatch='////', bottom=(cond1_user2_false_novel, cond2_user2_false_novel, cond3_user2_false_novel), label=\"user 2\")\n",
    "\n",
    "user3_false_novel = plt.bar(x + 0.1, (cond1_user3_false_novel, cond2_user3_false_novel, cond3_user3_false_novel), width, color='C0',\n",
    "                      edgecolor='#000000', hatch='\\\\\\\\')\n",
    "user3_true_novel = plt.bar(x + 0.1, (cond1_user3_true_novel, cond2_user3_true_novel, cond3_user3_true_novel), width, color='C1', \n",
    "                     edgecolor='#000000', hatch='\\\\\\\\', bottom=(cond1_user3_false_novel, cond2_user3_false_novel, cond3_user3_false_novel), label='user 3')\n",
    "\n",
    "user4_false_novel = plt.bar(x + 0.3, (cond1_user4_false_novel, cond2_user4_false_novel, cond3_user4_false_novel), width, color='C0',\n",
    "                      edgecolor='#000000', hatch='--')\n",
    "user4_true_novel = plt.bar(x + 0.3, (cond1_user4_true_novel, cond2_user4_true_novel, cond3_user4_true_novel), width, color='C1', \n",
    "                     edgecolor='#000000', hatch='--', bottom= (cond1_user4_false_novel, cond2_user4_false_novel, cond3_user4_false_novel), label='user 4')\n",
    "\n",
    "plt.xlabel('conditions')\n",
    "plt.xticks(x, ['1', '2', '3'])\n",
    "plt.ylabel('errors')\n",
    "\n",
    "# from the official matplotlib legend guide: https://matplotlib.org/stable/tutorials/intermediate/legend_guide.html\n",
    "\n",
    "first_legend = plt.legend(handles=[user1_true_novel, user2_true_novel, user3_true_novel, user4_true_novel], loc=2)\n",
    "\n",
    "# Add the legend manually to the current Axes.\n",
    "plt.gca().add_artist(first_legend)\n",
    "\n",
    "# Create another legend for the second line.\n",
    "plt.legend([user1_false_novel, user1_true_novel], ['no error', 'error'])\n",
    "plt.savefig('error_per_cond_and user_with_novel_technique.pdf')"
   ]
  },
  {
   "cell_type": "markdown",
   "id": "247dfef0",
   "metadata": {},
   "source": [
    "### Errors per condition and user without improvement"
   ]
  },
  {
   "cell_type": "code",
   "execution_count": 45,
   "id": "1a663132",
   "metadata": {},
   "outputs": [],
   "source": [
    "cond1_user1_false_novel = df_novel_true['errors'][df_novel_true['current_size'] == \"[20, 10]\"][df_novel_true['errors'] == 0][df_novel_true['user_id'] == 1].count() \n",
    "cond1_user1_true_novel = df_novel_true['errors'][df_novel_true['current_size'] == \"[20, 10]\"][df_novel_true['errors'] == 1][df_novel_true['user_id'] == 1].count()\n",
    "cond1_user2_false_novel = df_novel_true['errors'][df_novel_true['current_size'] == \"[20, 10]\"][df_novel_true['errors'] == 0][df_novel_true['user_id'] == 2].count() \n",
    "cond1_user2_true_novel = df_novel_true['errors'][df_novel_true['current_size'] == \"[20, 10]\"][df_novel_true['errors'] == 1][df_novel_true['user_id'] == 2].count()\n",
    "cond1_user3_false_novel = df_novel_true['errors'][df_novel_true['current_size'] == \"[20, 10]\"][df_novel_true['errors'] == 0][df_novel_true['user_id'] == 3].count() \n",
    "cond1_user3_true_novel = df_novel_true['errors'][df_novel_true['current_size'] == \"[20, 10]\"][df_novel_true['errors'] == 1][df_novel_true['user_id'] == 3].count()\n",
    "cond1_user4_false_novel = df_novel_true['errors'][df_novel_true['current_size'] == \"[20, 10]\"][df_novel_true['errors'] == 0][df_novel_true['user_id'] == 4].count() \n",
    "cond1_user4_true_novel = df_novel_true['errors'][df_novel_true['current_size'] == \"[20, 10]\"][df_novel_true['errors'] == 1][df_novel_true['user_id'] == 4].count()\n",
    "cond2_user1_false_novel = df_novel_true['errors'][df_novel_true['current_size'] == \"[8, 4]\"][df_novel_true['errors'] == 0][df_novel_true['user_id'] == 1].count() \n",
    "cond2_user1_true_novel = df_novel_true['errors'][df_novel_true['current_size'] == \"[8, 4]\"][df_novel_true['errors'] == 1][df_novel_true['user_id'] == 1].count()\n",
    "cond2_user2_false_novel = df_novel_true['errors'][df_novel_true['current_size'] == \"[8, 4]\"][df_novel_true['errors'] == 0][df_novel_true['user_id'] == 2].count() \n",
    "cond2_user2_true_novel = df_novel_true['errors'][df_novel_true['current_size'] == \"[8, 4]\"][df_novel_true['errors'] == 1][df_novel_true['user_id'] == 2].count()\n",
    "cond2_user3_false_novel = df_novel_true['errors'][df_novel_true['current_size'] == \"[8, 4]\"][df_novel_true['errors'] == 0][df_novel_true['user_id'] == 3].count() \n",
    "cond2_user3_true_novel = df_novel_true['errors'][df_novel_true['current_size'] == \"[8, 4]\"][df_novel_true['errors'] == 1][df_novel_true['user_id'] == 3].count()\n",
    "cond2_user4_false_novel = df_novel_true['errors'][df_novel_true['current_size'] == \"[8, 4]\"][df_novel_true['errors'] == 0][df_novel_true['user_id'] == 4].count() \n",
    "cond2_user4_true_novel = df_novel_true['errors'][df_novel_true['current_size'] == \"[8, 4]\"][df_novel_true['errors'] == 1][df_novel_true['user_id'] == 4].count()\n",
    "cond3_user1_false_novel = df_novel_true['errors'][df_novel_true['current_size'] == \"[10, 5]\"][df_novel_true['errors'] == 0][df_novel_true['user_id'] == 1].count() \n",
    "cond3_user1_true_novel = df_novel_true['errors'][df_novel_true['current_size'] == \"[10, 5]\"][df_novel_true['errors'] == 1][df_novel_true['user_id'] == 1].count()\n",
    "cond3_user2_false_novel = df_novel_true['errors'][df_novel_true['current_size'] == \"[10, 5]\"][df_novel_true['errors'] == 0][df_novel_true['user_id'] == 2].count() \n",
    "cond3_user2_true_novel = df_novel_true['errors'][df_novel_true['current_size'] == \"[10, 5]\"][df_novel_true['errors'] == 1][df_novel_true['user_id'] == 2].count()\n",
    "cond3_user3_false_novel = df_novel_true['errors'][df_novel_true['current_size'] == \"[10, 5]\"][df_novel_true['errors'] == 0][df_novel_true['user_id'] == 3].count() \n",
    "cond3_user3_true_novel = df_novel_true['errors'][df_novel_true['current_size'] == \"[10, 5]\"][df_novel_true['errors'] == 1][df_novel_true['user_id'] == 3].count()\n",
    "cond3_user4_false_novel = df_novel_true['errors'][df_novel_true['current_size'] == \"[10, 5]\"][df_novel_true['errors'] == 0][df_novel_true['user_id'] == 4].count() \n",
    "cond3_user4_true_novel = df_novel_true['errors'][df_novel_true['current_size'] == \"[10, 5]\"][df_novel_true['errors'] == 1][df_novel_true['user_id'] == 4].count()"
   ]
  },
  {
   "cell_type": "code",
   "execution_count": 46,
   "id": "5b48738c",
   "metadata": {
    "scrolled": true
   },
   "outputs": [
    {
     "data": {
      "image/png": "[encoded data removed]",
      "text/plain": [
       "<Figure size 432x288 with 1 Axes>"
      ]
     },
     "metadata": {
      "needs_background": "light"
     },
     "output_type": "display_data"
    }
   ],
   "source": [
    "x  = np.arange(3)\n",
    "plt.title('errors per condition and user with improvement')\n",
    "width = 0.3\n",
    "\n",
    "user1_false_novel = plt.bar(x - 0.3, (cond1_user1_false_novel, cond2_user1_false_novel, cond3_user1_false_novel), width, color='C0', \n",
    "                      edgecolor='#000000', label='error')\n",
    "user1_true_novel = plt.bar(x - 0.3, (cond1_user1_true_novel, cond2_user1_true_novel, cond3_user1_true_novel), width, color='C1', \n",
    "                     edgecolor='#000000', bottom= (cond1_user1_false_novel, cond2_user1_false_novel, cond3_user1_false_novel), label='user 1')\n",
    "\n",
    "user2_false_novel = plt.bar(x - 0.1, (cond1_user2_false_novel, cond2_user2_false_novel, cond3_user2_false_novel), width, color='C0',\n",
    "                      edgecolor='#000000', hatch='////')\n",
    "user2_true_novel = plt.bar(x - 0.1, (cond1_user2_true_novel, cond2_user2_true_novel, cond3_user2_true_novel), width, color='C1', \n",
    "                     edgecolor='#000000', hatch='////', bottom=(cond1_user2_false_novel, cond2_user2_false_novel, cond3_user2_false_novel), label=\"user 2\")\n",
    "\n",
    "user3_false_novel = plt.bar(x + 0.1, (cond1_user3_false_novel, cond2_user3_false_novel, cond3_user3_false_novel), width, color='C0',\n",
    "                      edgecolor='#000000', hatch='\\\\\\\\')\n",
    "user3_true_novel = plt.bar(x + 0.1, (cond1_user3_true_novel, cond2_user3_true_novel, cond3_user3_true_novel), width, color='C1', \n",
    "                     edgecolor='#000000', hatch='\\\\\\\\', bottom=(cond1_user3_false_novel, cond2_user3_false_novel, cond3_user3_false_novel), label='user 3')\n",
    "\n",
    "user4_false_novel = plt.bar(x + 0.3, (cond1_user4_false_novel, cond2_user4_false_novel, cond3_user4_false_novel), width, color='C0',\n",
    "                      edgecolor='#000000', hatch='--')\n",
    "user4_true_novel = plt.bar(x + 0.3, (cond1_user4_true_novel, cond2_user4_true_novel, cond3_user4_true_novel), width, color='C1', \n",
    "                     edgecolor='#000000', hatch='--', bottom= (cond1_user4_false_novel, cond2_user4_false_novel, cond3_user4_false_novel), label='user 4')\n",
    "\n",
    "plt.xlabel('conditions')\n",
    "plt.xticks(x, ['1', '2', '3'])\n",
    "plt.ylabel('errors')\n",
    "\n",
    "# from the official matplotlib legend guide: https://matplotlib.org/stable/tutorials/intermediate/legend_guide.html\n",
    "\n",
    "first_legend = plt.legend(handles=[user1_true_novel, user2_true_novel, user3_true_novel, user4_true_novel], loc=2)\n",
    "\n",
    "# Add the legend manually to the current Axes.\n",
    "plt.gca().add_artist(first_legend)\n",
    "\n",
    "# Create another legend for the second line.\n",
    "plt.legend([user1_false_novel, user1_true_novel], ['no error', 'error'])\n",
    "plt.savefig('error_per_cond_and user_with_novel_technique.pdf')"
   ]
  },
  {
   "cell_type": "markdown",
   "id": "615d3ea6",
   "metadata": {},
   "source": [
    "### Statistical Test"
   ]
  },
  {
   "cell_type": "code",
   "execution_count": 47,
   "id": "349c2bb1",
   "metadata": {},
   "outputs": [],
   "source": [
    "x1 = df_novel_true[\"time(ms)\"]\n",
    "x2 = df_novel_false[\"time(ms)\"]"
   ]
  },
  {
   "cell_type": "code",
   "execution_count": 48,
   "id": "bad834d2",
   "metadata": {},
   "outputs": [
    {
     "data": {
      "text/plain": [
       "Ttest_relResult(statistic=-2.6251755822521465, pvalue=0.009797099400474137)"
      ]
     },
     "execution_count": 48,
     "metadata": {},
     "output_type": "execute_result"
    }
   ],
   "source": [
    "stats.ttest_rel(x1,x2)"
   ]
  },
  {
   "cell_type": "code",
   "execution_count": 49,
   "id": "e03354fc",
   "metadata": {},
   "outputs": [
    {
     "name": "stdout",
     "output_type": "stream",
     "text": [
      "With Novel Technique: (M = 1024.51 SD = 209.31)\n",
      "Without Novel Technique: (M = 1107.76 SD = 248.4)\n"
     ]
    }
   ],
   "source": [
    "print(\"With Novel Technique: (M = {} SD = {})\".format(round(np.mean(x1),2), round(np.std(x1),2)))\n",
    "print(\"Without Novel Technique: (M = {} SD = {})\".format(round(np.mean(x2),2), round(np.std(x2),2)))"
   ]
  },
  {
   "cell_type": "code",
   "execution_count": 50,
   "id": "0cfe2e45",
   "metadata": {},
   "outputs": [],
   "source": [
    "y1 = df_novel_true[\"errors\"]\n",
    "y2 = df_novel_false[\"errors\"]"
   ]
  },
  {
   "cell_type": "code",
   "execution_count": 51,
   "id": "350d3854",
   "metadata": {},
   "outputs": [
    {
     "data": {
      "text/plain": [
       "Ttest_relResult(statistic=-2.352633358798228, pvalue=0.020282375153148874)"
      ]
     },
     "execution_count": 51,
     "metadata": {},
     "output_type": "execute_result"
    }
   ],
   "source": [
    "stats.ttest_rel(y1,y2)"
   ]
  },
  {
   "cell_type": "code",
   "execution_count": 52,
   "id": "d45851f3",
   "metadata": {},
   "outputs": [
    {
     "name": "stdout",
     "output_type": "stream",
     "text": [
      "With Novel Technique: (M = 0.02 SD = 0.13)\n",
      "Without Novel Technique: (M = 0.08 SD = 0.28)\n"
     ]
    }
   ],
   "source": [
    "print(\"With Novel Technique: (M = {} SD = {})\".format(round(np.mean(y1),2), round(np.std(y1),2)))\n",
    "print(\"Without Novel Technique: (M = {} SD = {})\".format(round(np.mean(y2),2), round(np.std(y2),2)))"
   ]
  },
  {
   "cell_type": "markdown",
   "id": "3611c423",
   "metadata": {},
   "source": [
    "## Discussion"
   ]
  },
  {
   "cell_type": "markdown",
   "id": "5b7f51ff",
   "metadata": {},
   "source": [
    "The t-tests show that the pointing times with (M = 1024.51 SD = 209.31) and without(M = 1107.76 SD = 248.4) our novel pointing technique (M = 16.2, SD = 2.7), are significantly different (t= -2.63, p < .01). We can therefore reject our H01 as implementing our novel pointing technique significantly improves pointing time. The mean errors of participants with (M = 0.02 SD = 0.13) and without (M = 0.08 SD = 0.28) the new technique are also significantly different (t= -2.35, p = .02), with the mean errors being higher for the tasks without novel technique. As such we can also reject our H02.\n",
    "\n",
    "The visualizations concerning completion times show, that the average time is faster with the technique for each condition. Experimenting with more different conditions could show when the new technique starts/stops helping the user. The bar plots presenting the errors show that mistakes were more prevalent with a small number of, and therefore also larger circles. This seems quite unusual and can probably be assigned to the very small number of participants.\n",
    "\n",
    "Our Results prove, that moving the cursor on top of the closest target when the user clicks, can significantly reduce pointing time and the amount of errors. It has to be kept in mind though, that our experiment had a very specific setup, so the results only count for pointing in environments with a grid like structure with similiar looking target, such as a Windows desktop. Further studies could look into pointing experiments where targets are set up randomly on the screen. Experimenting with different shapes for targets or moving targets could also yield additional insights. It also has to be said that we could only test 2 participants, so our results have to be taken with a grain of salt. Ideally, the experiment should be repeated with a larger number of participants."
   ]
  },
  {
   "cell_type": "code",
   "execution_count": null,
   "id": "f742019f",
   "metadata": {},
   "outputs": [],
   "source": []
  }
 ],
 "metadata": {
  "kernelspec": {
   "display_name": "Python 3",
   "language": "python",
   "name": "python3"
  },
  "language_info": {
   "codemirror_mode": {
    "name": "ipython",
    "version": 3
   },
   "file_extension": ".py",
   "mimetype": "text/x-python",
   "name": "python",
   "nbconvert_exporter": "python",
   "pygments_lexer": "ipython3",
   "version": "3.9.5"
  }
 },
 "nbformat": 4,
 "nbformat_minor": 5
}
