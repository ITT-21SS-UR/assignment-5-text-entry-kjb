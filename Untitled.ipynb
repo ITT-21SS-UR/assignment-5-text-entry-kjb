{
 "cells": [
  {
   "cell_type": "markdown",
   "id": "27c98f9d",
   "metadata": {},
   "source": [
    "# Text Input Study"
   ]
  },
  {
   "cell_type": "markdown",
   "id": "a0f59b0a",
   "metadata": {},
   "source": [
    "## Hypotheses"
   ]
  },
  {
   "cell_type": "markdown",
   "id": "bf571a65",
   "metadata": {},
   "source": [
    "## Variables"
   ]
  },
  {
   "cell_type": "markdown",
   "id": "bf1367a2",
   "metadata": {},
   "source": [
    "Independent Variables: used application, sentence length\n",
    "Dependent Variables: input time "
   ]
  },
  {
   "cell_type": "markdown",
   "id": "af436577",
   "metadata": {},
   "source": [
    "## Setup"
   ]
  },
  {
   "cell_type": "markdown",
   "id": "43c89af7",
   "metadata": {},
   "source": [
    "## Participants"
   ]
  },
  {
   "cell_type": "code",
   "execution_count": null,
   "id": "cb48685d",
   "metadata": {},
   "outputs": [],
   "source": []
  },
  {
   "cell_type": "code",
   "execution_count": 2,
   "id": "10251589",
   "metadata": {},
   "outputs": [],
   "source": [
    "import pandas as pd\n",
    "import matplotlib\n",
    "from matplotlib import pyplot as plt\n",
    "from scipy import stats\n",
    "import numpy as np\n",
    "import seaborn as sns"
   ]
  },
  {
   "cell_type": "code",
   "execution_count": null,
   "id": "7310c5e8",
   "metadata": {},
   "outputs": [],
   "source": [
    "headerlist= [\"stats_log\", user_id, use_completer, presented_text, transcribed_text,\n",
    "                                  presented_characters, transcribed_characters, time, wpm]\n",
    "df_stats_data = pd.read_csv('stats_log.csv', names = )\n"
   ]
  },
  {
   "cell_type": "code",
   "execution_count": null,
   "id": "7049135d",
   "metadata": {},
   "outputs": [],
   "source": []
  }
 ],
 "metadata": {
  "kernelspec": {
   "display_name": "Python 3",
   "language": "python",
   "name": "python3"
  },
  "language_info": {
   "codemirror_mode": {
    "name": "ipython",
    "version": 3
   },
   "file_extension": ".py",
   "mimetype": "text/x-python",
   "name": "python",
   "nbconvert_exporter": "python",
   "pygments_lexer": "ipython3",
   "version": "3.9.5"
  }
 },
 "nbformat": 4,
 "nbformat_minor": 5
}
